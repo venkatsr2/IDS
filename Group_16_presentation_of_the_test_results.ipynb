{
 "cells": [
  {
   "cell_type": "markdown",
   "id": "de0b8909",
   "metadata": {},
   "source": [
    "# Presentation of the test results - \n",
    "In this part - 3 of our project review, we trained and compared the test results of the following classification models - \n",
    "- Linear Classifier/SVM\n",
    "- K Nearest Neighbors\n",
    "- Random Forest\n",
    "- Decision Tree\n",
    "- Extreme Learning Machine\n",
    "- SVM polynomial\n",
    "- Deep Learning/MLP\n",
    "- Random Forest with feature selection (Bidirectional elimination method)"
   ]
  },
  {
   "cell_type": "code",
   "execution_count": 1,
   "id": "53f9e046",
   "metadata": {},
   "outputs": [],
   "source": [
    "# Importing all the required libraries\n",
    "\n",
    "import numpy as np\n",
    "import pandas as pd\n",
    "import matplotlib.pyplot as plt\n",
    "import seaborn as sns\n",
    "from scipy.stats import uniform, randint\n",
    "\n",
    "from sklearn.model_selection import train_test_split\n",
    "from sklearn.metrics import accuracy_score, confusion_matrix, classification_report\n",
    "from sklearn.preprocessing import StandardScaler\n",
    "from sklearn.ensemble import VotingClassifier, StackingClassifier\n",
    "from sklearn.svm import SVC\n",
    "from mlxtend.feature_selection import SequentialFeatureSelector as SFS\n",
    "from sklearn.ensemble import RandomForestClassifier\n",
    "from skelm import ELMClassifier\n",
    "from sklearn.linear_model import Lasso\n",
    "from sklearn.neural_network import MLPClassifier\n",
    "from sklearn.linear_model import SGDClassifier, LogisticRegression\n",
    "from sklearn.neighbors import KNeighborsClassifier\n",
    "from sklearn import tree\n",
    "from sklearn.model_selection import cross_val_score, GridSearchCV, RandomizedSearchCV\n",
    "\n",
    "import warnings\n",
    "warnings.filterwarnings(\"ignore\")"
   ]
  },
  {
   "cell_type": "code",
   "execution_count": 2,
   "id": "e4a8303f",
   "metadata": {},
   "outputs": [
    {
     "data": {
      "text/html": [
       "<div>\n",
       "<style scoped>\n",
       "    .dataframe tbody tr th:only-of-type {\n",
       "        vertical-align: middle;\n",
       "    }\n",
       "\n",
       "    .dataframe tbody tr th {\n",
       "        vertical-align: top;\n",
       "    }\n",
       "\n",
       "    .dataframe thead th {\n",
       "        text-align: right;\n",
       "    }\n",
       "</style>\n",
       "<table border=\"1\" class=\"dataframe\">\n",
       "  <thead>\n",
       "    <tr style=\"text-align: right;\">\n",
       "      <th></th>\n",
       "      <th>Unnamed: 0</th>\n",
       "      <th>Subject</th>\n",
       "      <th>Hold .</th>\n",
       "      <th>Hold t</th>\n",
       "      <th>Hold i</th>\n",
       "      <th>Hold e</th>\n",
       "      <th>Hold Shift</th>\n",
       "      <th>Hold 5</th>\n",
       "      <th>Hold Shift.1</th>\n",
       "      <th>Hold Caps</th>\n",
       "      <th>...</th>\n",
       "      <th>Size Caps</th>\n",
       "      <th>Size r</th>\n",
       "      <th>Size o</th>\n",
       "      <th>Size a</th>\n",
       "      <th>Size n</th>\n",
       "      <th>Size l</th>\n",
       "      <th>Size Enter</th>\n",
       "      <th>AvH</th>\n",
       "      <th>AvP</th>\n",
       "      <th>AvA</th>\n",
       "    </tr>\n",
       "  </thead>\n",
       "  <tbody>\n",
       "    <tr>\n",
       "      <th>0</th>\n",
       "      <td>0</td>\n",
       "      <td>1.0</td>\n",
       "      <td>106.0</td>\n",
       "      <td>92.0</td>\n",
       "      <td>111.0</td>\n",
       "      <td>85.0</td>\n",
       "      <td>123.0</td>\n",
       "      <td>82.0</td>\n",
       "      <td>70.0</td>\n",
       "      <td>101.00</td>\n",
       "      <td>...</td>\n",
       "      <td>0.225806</td>\n",
       "      <td>0.225806</td>\n",
       "      <td>0.322581</td>\n",
       "      <td>0.290323</td>\n",
       "      <td>0.225806</td>\n",
       "      <td>0.354839</td>\n",
       "      <td>0.274194</td>\n",
       "      <td>103.035714</td>\n",
       "      <td>0.190971</td>\n",
       "      <td>0.288018</td>\n",
       "    </tr>\n",
       "    <tr>\n",
       "      <th>1</th>\n",
       "      <td>1</td>\n",
       "      <td>1.0</td>\n",
       "      <td>106.0</td>\n",
       "      <td>88.0</td>\n",
       "      <td>111.0</td>\n",
       "      <td>83.0</td>\n",
       "      <td>123.0</td>\n",
       "      <td>101.0</td>\n",
       "      <td>81.0</td>\n",
       "      <td>94.00</td>\n",
       "      <td>...</td>\n",
       "      <td>0.225806</td>\n",
       "      <td>0.225806</td>\n",
       "      <td>0.322581</td>\n",
       "      <td>0.322581</td>\n",
       "      <td>0.258065</td>\n",
       "      <td>0.387097</td>\n",
       "      <td>0.322581</td>\n",
       "      <td>103.035714</td>\n",
       "      <td>0.186514</td>\n",
       "      <td>0.285138</td>\n",
       "    </tr>\n",
       "    <tr>\n",
       "      <th>2</th>\n",
       "      <td>2</td>\n",
       "      <td>1.0</td>\n",
       "      <td>106.0</td>\n",
       "      <td>90.0</td>\n",
       "      <td>111.0</td>\n",
       "      <td>65.0</td>\n",
       "      <td>79.0</td>\n",
       "      <td>73.0</td>\n",
       "      <td>96.0</td>\n",
       "      <td>63.25</td>\n",
       "      <td>...</td>\n",
       "      <td>0.225806</td>\n",
       "      <td>0.193548</td>\n",
       "      <td>0.290323</td>\n",
       "      <td>0.322581</td>\n",
       "      <td>0.225806</td>\n",
       "      <td>0.258065</td>\n",
       "      <td>0.274194</td>\n",
       "      <td>103.035714</td>\n",
       "      <td>0.186171</td>\n",
       "      <td>0.285138</td>\n",
       "    </tr>\n",
       "    <tr>\n",
       "      <th>3</th>\n",
       "      <td>3</td>\n",
       "      <td>1.0</td>\n",
       "      <td>106.0</td>\n",
       "      <td>81.0</td>\n",
       "      <td>111.0</td>\n",
       "      <td>72.0</td>\n",
       "      <td>83.0</td>\n",
       "      <td>94.0</td>\n",
       "      <td>89.0</td>\n",
       "      <td>104.00</td>\n",
       "      <td>...</td>\n",
       "      <td>0.225806</td>\n",
       "      <td>0.225806</td>\n",
       "      <td>0.258065</td>\n",
       "      <td>0.290323</td>\n",
       "      <td>0.225806</td>\n",
       "      <td>0.322581</td>\n",
       "      <td>0.322581</td>\n",
       "      <td>103.035714</td>\n",
       "      <td>0.177943</td>\n",
       "      <td>0.285138</td>\n",
       "    </tr>\n",
       "    <tr>\n",
       "      <th>4</th>\n",
       "      <td>4</td>\n",
       "      <td>1.0</td>\n",
       "      <td>106.0</td>\n",
       "      <td>72.0</td>\n",
       "      <td>111.0</td>\n",
       "      <td>82.0</td>\n",
       "      <td>62.0</td>\n",
       "      <td>89.0</td>\n",
       "      <td>68.0</td>\n",
       "      <td>88.00</td>\n",
       "      <td>...</td>\n",
       "      <td>0.290323</td>\n",
       "      <td>0.225806</td>\n",
       "      <td>0.322581</td>\n",
       "      <td>0.258065</td>\n",
       "      <td>0.225806</td>\n",
       "      <td>0.290323</td>\n",
       "      <td>0.387097</td>\n",
       "      <td>103.035714</td>\n",
       "      <td>0.163971</td>\n",
       "      <td>0.285138</td>\n",
       "    </tr>\n",
       "  </tbody>\n",
       "</table>\n",
       "<p>5 rows × 73 columns</p>\n",
       "</div>"
      ],
      "text/plain": [
       "   Unnamed: 0  Subject  Hold .  Hold t  Hold i  Hold e  Hold Shift  Hold 5  \\\n",
       "0           0      1.0   106.0    92.0   111.0    85.0       123.0    82.0   \n",
       "1           1      1.0   106.0    88.0   111.0    83.0       123.0   101.0   \n",
       "2           2      1.0   106.0    90.0   111.0    65.0        79.0    73.0   \n",
       "3           3      1.0   106.0    81.0   111.0    72.0        83.0    94.0   \n",
       "4           4      1.0   106.0    72.0   111.0    82.0        62.0    89.0   \n",
       "\n",
       "   Hold Shift.1  Hold Caps  ...  Size Caps    Size r    Size o    Size a  \\\n",
       "0          70.0     101.00  ...   0.225806  0.225806  0.322581  0.290323   \n",
       "1          81.0      94.00  ...   0.225806  0.225806  0.322581  0.322581   \n",
       "2          96.0      63.25  ...   0.225806  0.193548  0.290323  0.322581   \n",
       "3          89.0     104.00  ...   0.225806  0.225806  0.258065  0.290323   \n",
       "4          68.0      88.00  ...   0.290323  0.225806  0.322581  0.258065   \n",
       "\n",
       "     Size n    Size l  Size Enter         AvH       AvP       AvA  \n",
       "0  0.225806  0.354839    0.274194  103.035714  0.190971  0.288018  \n",
       "1  0.258065  0.387097    0.322581  103.035714  0.186514  0.285138  \n",
       "2  0.225806  0.258065    0.274194  103.035714  0.186171  0.285138  \n",
       "3  0.225806  0.322581    0.322581  103.035714  0.177943  0.285138  \n",
       "4  0.225806  0.290323    0.387097  103.035714  0.163971  0.285138  \n",
       "\n",
       "[5 rows x 73 columns]"
      ]
     },
     "execution_count": 2,
     "metadata": {},
     "output_type": "execute_result"
    }
   ],
   "source": [
    "# loading the cleaned dataset\n",
    "\n",
    "group_16_df = pd.read_csv('Group_16_data_cleaned.csv')\n",
    "group_16_df.head()"
   ]
  },
  {
   "cell_type": "code",
   "execution_count": 3,
   "id": "5b907362",
   "metadata": {},
   "outputs": [
    {
     "data": {
      "text/plain": [
       "((2856, 71), (2856,))"
      ]
     },
     "execution_count": 3,
     "metadata": {},
     "output_type": "execute_result"
    }
   ],
   "source": [
    "# extracting and assigning the input and output variables from the dataset\n",
    "\n",
    "x, y = group_16_df.iloc[:, 2:].values, group_16_df['Subject'].values\n",
    "x.shape, y.shape"
   ]
  },
  {
   "cell_type": "code",
   "execution_count": 4,
   "id": "b6d2f421",
   "metadata": {},
   "outputs": [
    {
     "name": "stdout",
     "output_type": "stream",
     "text": [
      "(1999, 71) (1999,)\n",
      "(857, 71) (857,)\n"
     ]
    }
   ],
   "source": [
    "# splitting the imported dataset as train(70%) and test(30%) sets.\n",
    "\n",
    "x_train,x_test,y_train,y_test = train_test_split(x, y, test_size = 0.3, random_state = 222)\n",
    "print(x_train.shape, y_train.shape)\n",
    "print(x_test.shape, y_test.shape)\n",
    "\n",
    "scaler = StandardScaler()\n",
    "x_train = scaler.fit_transform(x_train)\n",
    "x_test = scaler.fit_transform(x_test)"
   ]
  },
  {
   "cell_type": "code",
   "execution_count": 5,
   "id": "2d7b8e60",
   "metadata": {},
   "outputs": [],
   "source": [
    "# Define all classifiers with best parameters\n",
    "\n",
    "lin_clf = SGDClassifier(loss = 'hinge', max_iter = 100, penalty = 'l2', random_state = 222)\n",
    "KNN = KNeighborsClassifier(algorithm = 'auto', n_neighbors = 9, p = 1)\n",
    "RF = RandomForestClassifier(random_state = 222, n_estimators = 290, max_depth = 60)\n",
    "DT = tree.DecisionTreeClassifier(random_state = 222, min_samples_split = 4, max_depth = 23, criterion = 'gini')\n",
    "\n",
    "ELM = ELMClassifier(n_neurons = 500, ufunc = 'relu', random_state = 222, alpha = 0.0001)\n",
    "SVC = SVC(C = 50, degree = 2, kernel = 'poly', random_state = 222)\n",
    "MLP = MLPClassifier(solver = 'adam', learning_rate = 'constant', hidden_layer_sizes = (1000,), alpha = 0.0001,\n",
    "      activation = 'logistic', random_state = 222)"
   ]
  },
  {
   "cell_type": "markdown",
   "id": "21e81527",
   "metadata": {},
   "source": [
    "## Random Forest with feature selection (Bi-directional elimination method)"
   ]
  },
  {
   "cell_type": "code",
   "execution_count": 6,
   "id": "419a7fc0",
   "metadata": {},
   "outputs": [],
   "source": [
    "# important features after \n",
    "\n",
    "important_features = ['Hold .', 'Hold i', 'Hold e', 'Hold 5', 'Hold Shift.1', 'Hold Caps', 'Hold o', 'Hold a', 'Hold n', \n",
    "                      'Hold l', 'Hold Enter', 'DD ..t', 'DD t.i', 'DD i.e', 'DD e.Shift', 'DD Shift.5', 'DD Shift.Caps', \n",
    "                      'DD Caps.r', 'DD o.a', 'DD a.n', 'DD n.l', 'DD l.Enter', 'UD ..t', 'UD t.i', 'UD i.e', 'UD e.Shift', \n",
    "                      'UD Shift.5', 'UD 5.Shift', 'UD Shift.Caps', 'UD Caps.r', 'UD r.o', 'UD a.n', 'UD n.l', 'UD l.Enter', \n",
    "                      'Pressure .', 'Pressure t', 'Pressure i', 'Pressure Shift', 'Pressure 5', 'Pressure Shift.1', \n",
    "                      'Pressure Caps', 'Pressure r', 'Pressure o', 'Pressure n', 'Pressure Enter', 'Size t', 'Size i', \n",
    "                      'Size e', 'Size Shift', 'Size 5', 'Size Caps', 'Size r', 'Size a', 'Size n', 'Size l', 'Size Enter', \n",
    "                      'AvH', 'AvP', 'AvA']"
   ]
  },
  {
   "cell_type": "code",
   "execution_count": 7,
   "id": "1994082c",
   "metadata": {},
   "outputs": [
    {
     "data": {
      "text/plain": [
       "((2856, 59), (2856,))"
      ]
     },
     "execution_count": 7,
     "metadata": {},
     "output_type": "execute_result"
    }
   ],
   "source": [
    "# Building new dataset by removing unwanted features\n",
    "\n",
    "x_sfs, y = group_16_df[important_features], group_16_df['Subject']\n",
    "x_sfs.shape, y.shape"
   ]
  },
  {
   "cell_type": "code",
   "execution_count": 8,
   "id": "ab9f7f6d",
   "metadata": {},
   "outputs": [
    {
     "name": "stdout",
     "output_type": "stream",
     "text": [
      "(1999, 59) (1999,)\n",
      "(857, 59) (857,)\n"
     ]
    }
   ],
   "source": [
    "# again splitting this new dataset as train(70%) and test(30%) sets.\n",
    "\n",
    "x_train_sfs,x_test_sfs,y_train,y_test = train_test_split(x_sfs, y, test_size = 0.3, random_state = 222)\n",
    "print(x_train_sfs.shape, y_train.shape)\n",
    "print(x_test_sfs.shape, y_test.shape)\n",
    "\n",
    "scaler = StandardScaler()\n",
    "x_train_sfs = scaler.fit_transform(x_train_sfs)\n",
    "x_test_sfs = scaler.fit_transform(x_test_sfs)"
   ]
  },
  {
   "cell_type": "code",
   "execution_count": 9,
   "id": "c09169d8",
   "metadata": {},
   "outputs": [
    {
     "data": {
      "text/plain": [
       "0.9498249708284714"
      ]
     },
     "execution_count": 9,
     "metadata": {},
     "output_type": "execute_result"
    }
   ],
   "source": [
    "rf_sfs = RandomForestClassifier(random_state = 222, n_estimators = 290, max_depth = 60)\n",
    "rf_sfs.fit(x_train_sfs, y_train)\n",
    "\n",
    "y_pred_train = rf_sfs.predict(x_train_sfs)\n",
    "y_pred_test = rf_sfs.predict(x_test_sfs)\n",
    "\n",
    "sfs_test_score = accuracy_score(y_pred_test, y_test)\n",
    "sfs_test_score"
   ]
  },
  {
   "cell_type": "markdown",
   "id": "66fe9736",
   "metadata": {},
   "source": [
    "### Comparision of accuracy scores of individual models vs (RF with feature selection) on the test data.\n"
   ]
  },
  {
   "cell_type": "code",
   "execution_count": 10,
   "id": "e55f058d",
   "metadata": {},
   "outputs": [
    {
     "data": {
      "image/png": "[encoded data removed]",
      "text/plain": [
       "<Figure size 640x480 with 1 Axes>"
      ]
     },
     "metadata": {},
     "output_type": "display_data"
    }
   ],
   "source": [
    "clf_list = [lin_clf, KNN, RF, DT, ELM, SVC, MLP]\n",
    "ax = ['Linear', 'K Nearest Neighbors', 'Random Forest', 'Decision Tree', 'Extreme Learning Machine', 'SVM - Polynomial', 'Deep Learning/MLP', 'Bi-directional elimination - RF']\n",
    "ay = []\n",
    "for clf in clf_list:\n",
    "    clf.fit(x_train, y_train)\n",
    "    pred_test = clf.predict(x_test)\n",
    "    test_acc = accuracy_score(pred_test, y_test)\n",
    "    ay.append(round(test_acc*100, 2))\n",
    "    \n",
    "ay.append(round(sfs_test_score*100, 2))    \n",
    "    \n",
    "plt.barh(ax, ay, color = ['g', 'g', 'g', 'g', 'g', 'g', 'g', 'y'], height = 0.3)\n",
    "for index, value in enumerate(ay):\n",
    "    plt.text(value, index, str(value))\n",
    "plt.xlabel('Test Accuracy')\n",
    "plt.ylabel('Classifier Models')\n",
    "plt.show()"
   ]
  }
 ],
 "metadata": {
  "kernelspec": {
   "display_name": "Python 3 (ipykernel)",
   "language": "python",
   "name": "python3"
  },
  "language_info": {
   "codemirror_mode": {
    "name": "ipython",
    "version": 3
   },
   "file_extension": ".py",
   "mimetype": "text/x-python",
   "name": "python",
   "nbconvert_exporter": "python",
   "pygments_lexer": "ipython3",
   "version": "3.9.13"
  }
 },
 "nbformat": 4,
 "nbformat_minor": 5
}
